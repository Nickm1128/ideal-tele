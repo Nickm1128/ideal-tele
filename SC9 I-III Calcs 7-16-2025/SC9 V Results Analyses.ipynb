{
 "cells": [
  {
   "cell_type": "code",
   "execution_count": 1,
   "metadata": {},
   "outputs": [],
   "source": [
    "calc_type = 'Standard' # 'Standard' or 'Large'"
   ]
  },
  {
   "cell_type": "code",
   "execution_count": 2,
   "metadata": {},
   "outputs": [],
   "source": [
    "if calc_type == 'Standard':\n",
    "    old_rate = '9-I/III'\n",
    "    new_rate = '9-IV'\n",
    "elif calc_type == 'Large':\n",
    "    old_rate = '9-II'\n",
    "    new_rate = '9-V'"
   ]
  },
  {
   "cell_type": "code",
   "execution_count": 3,
   "metadata": {},
   "outputs": [],
   "source": [
    "import pandas as pd \n",
    "import numpy as np \n",
    "import pyodbc\n",
    "import matplotlib.pyplot as plt\n",
    "from sklearn.ensemble import RandomForestClassifier, RandomForestRegressor\n",
    "from sklearn.metrics import r2_score, mean_absolute_error, mean_squared_error, accuracy_score\n",
    "from sklearn.model_selection import train_test_split\n",
    "import seaborn as sns\n",
    "import statsmodels.api as sm\n",
    "import ast\n",
    "from IPython.display import clear_output\n",
    "from datetime import datetime"
   ]
  },
  {
   "cell_type": "code",
   "execution_count": 4,
   "metadata": {},
   "outputs": [],
   "source": [
    "def string_to_list(s):\n",
    "    try:\n",
    "        result = ast.literal_eval(s)\n",
    "        if isinstance(result, dict):\n",
    "            return result\n",
    "        else:\n",
    "            raise ValueError(\"The string does not represent a list.\")\n",
    "    except Exception as e:\n",
    "        print(f\"Error: {e}\")\n",
    "        return None"
   ]
  },
  {
   "cell_type": "code",
   "execution_count": 5,
   "metadata": {},
   "outputs": [],
   "source": [
    "conn1 = pyodbc.connect('Driver={SQL Server};'\n",
    "                              'Server=UTIL-PROD-DB;'\n",
    "                              'Database=NewClientInfo;')"
   ]
  },
  {
   "cell_type": "code",
   "execution_count": 6,
   "metadata": {},
   "outputs": [],
   "source": [
    "def Acc(Anumbers, conn1):\n",
    "    '''Takes account number, not account ID'''\n",
    "\n",
    "    sql1 = f\"\"\"SELECT distinct Acc.[AccountID] as AccountID\n",
    "                                ,Acc.[AccountNumber] as AccountNumber\n",
    "                    ,Client.[CompanyName] as Client\n",
    "                FROM [NewClientInfo].[dbo].[Accounts] Acc \n",
    "                JOIN [NewClientInfo].[dbo].[Client] on [NewClientInfo].[dbo].[Client].[ClientID]=Acc.[AccountClientID]\n",
    "                WHERE  Acc.[AccountID] IN ({','.join(Anumbers)})\n",
    "\"\"\"\n",
    "    bills = pd.read_sql(sql1, conn1)\n",
    "    \n",
    "    return bills"
   ]
  },
  {
   "cell_type": "code",
   "execution_count": 7,
   "metadata": {},
   "outputs": [
    {
     "name": "stderr",
     "output_type": "stream",
     "text": [
      "C:\\Users\\local_nmilinkovich\\Temp\\ipykernel_10812\\4058066216.py:23: UserWarning: pandas only supports SQLAlchemy connectable (engine/connection) or database string URI or sqlite3 DBAPI2 connection. Other DBAPI2 objects are not tested. Please consider using SQLAlchemy.\n",
      "  df = pd.read_sql(sql1,conn1)\n"
     ]
    }
   ],
   "source": [
    "sql1 = r\"\"\"SELECT 'PDF Location' = 'Q:\\_UTILISAVE LLC\\UtilityBilling\\Production\\100001\\' + UtilImp.[Url]\n",
    ",A.AccountID\n",
    ",RawData\n",
    ",EGOS.Usage\n",
    ",EGOS.Demand\n",
    ",DateFrom\n",
    ",DateTo\n",
    ",BillAmount\n",
    ",EGOS.StatementDate\n",
    ",ami.AMIUsage / ami.Usage AS 'Usage Disc'\n",
    "\n",
    "\n",
    "  FROM [NewClientInfo].[dbo].[EGOS_BillingDetails] AS EGOS\n",
    "  JOIN [ExternalData].[dbo].[UtilityImport] AS UtilImp ON EGOS.UtilityImportId = UtilImp.Id\n",
    "  JOIN NewClientInfo.dbo.Accounts AS A ON A.AccountID = EGOS.AccountID\n",
    "  JOIN NewClientInfo.dbo.Client AS C ON C.ClientID = A.AccountClientID\n",
    "  JOIN [ExternalData].[dbo].[UtilityImportRawData] AS rd ON rd.UtilityImportId = UtilImp.Id\n",
    "  JOIN [IntervalData].[dbo].[AMIImportHeader] AS ami_head ON ami_head.AccountId = A.AccountID\n",
    "  JOIN [IntervalData].[dbo].[AMIImport] AS ami ON ami.AMIImportHeaderId = ami_head.Id AND ami.StartDate = EGOS.DateFrom and ami.EndDate = EGOS.DateTo\n",
    "  WHERE AccountUtilityProviderID = 1\n",
    "  AND ami.Usage > 0\n",
    "\"\"\"\n",
    "df = pd.read_sql(sql1,conn1)"
   ]
  },
  {
   "cell_type": "code",
   "execution_count": 8,
   "metadata": {},
   "outputs": [],
   "source": [
    "calcs = \\\n",
    "pd.read_excel(r\"Q:\\AUDITORS\\EGOS Shared Folder\\Development\\Nick's pythons\\SC9 IV Calcs 5-20-2025\\Output\\Standard\\Standard Calcs561.xlsx\")"
   ]
  },
  {
   "cell_type": "code",
   "execution_count": 9,
   "metadata": {},
   "outputs": [],
   "source": [
    "calcs = calcs[calcs['total'] > 0]"
   ]
  },
  {
   "cell_type": "code",
   "execution_count": 10,
   "metadata": {},
   "outputs": [],
   "source": [
    "calcs['DateFrom'] = pd.to_datetime(calcs['DateFrom'])\n",
    "calcs['DateTo'] = pd.to_datetime(calcs['DateTo'])"
   ]
  },
  {
   "cell_type": "code",
   "execution_count": 11,
   "metadata": {},
   "outputs": [],
   "source": [
    "calcs = calcs.merge(df[['AccountID', 'RawData', 'DateFrom', 'DateTo', 'Usage', 'Demand', 'Usage Disc']], on =['AccountID', 'DateFrom', 'DateTo'])"
   ]
  },
  {
   "cell_type": "code",
   "execution_count": 12,
   "metadata": {},
   "outputs": [],
   "source": [
    "calcs = calcs[(calcs['Usage Disc'] > .9) &\n",
    "      (calcs['Usage Disc'] < 1.1)]"
   ]
  },
  {
   "cell_type": "code",
   "execution_count": 13,
   "metadata": {},
   "outputs": [],
   "source": [
    "calcs['Days'] = (calcs['DateTo'] - calcs['DateFrom']).dt.days\n",
    "calcs['Load Factor'] = calcs['Usage'] / (calcs['Demand'] * calcs['Days'] * 24)"
   ]
  },
  {
   "cell_type": "code",
   "execution_count": 14,
   "metadata": {},
   "outputs": [],
   "source": [
    "calcs['AsBilled'] = calcs['RawData'].str.split('Total electricity delivery charges\\n').str[1].str.split('\\n').str[0].str.replace('$','').str.replace(',','').astype(float)"
   ]
  },
  {
   "cell_type": "code",
   "execution_count": 15,
   "metadata": {},
   "outputs": [],
   "source": [
    "calcs['Contract Demand'] = calcs['contract_demand_charge'].apply(string_to_list).str['kW']"
   ]
  },
  {
   "cell_type": "code",
   "execution_count": 16,
   "metadata": {},
   "outputs": [],
   "source": [
    "df = calcs[['AccountID', 'DateFrom', 'DateTo', 'Usage', 'Demand',\n",
    "       'AsBilled', 'Usage Disc', 'Contract Demand', 'total']]"
   ]
  },
  {
   "cell_type": "code",
   "execution_count": 17,
   "metadata": {},
   "outputs": [
    {
     "name": "stderr",
     "output_type": "stream",
     "text": [
      "C:\\Users\\local_nmilinkovich\\Temp\\ipykernel_10812\\2025172405.py:1: SettingWithCopyWarning: \n",
      "A value is trying to be set on a copy of a slice from a DataFrame.\n",
      "Try using .loc[row_indexer,col_indexer] = value instead\n",
      "\n",
      "See the caveats in the documentation: https://pandas.pydata.org/pandas-docs/stable/user_guide/indexing.html#returning-a-view-versus-a-copy\n",
      "  df['Year'] = df['DateTo'].dt.year\n"
     ]
    }
   ],
   "source": [
    "df['Year'] = df['DateTo'].dt.year"
   ]
  },
  {
   "cell_type": "code",
   "execution_count": 18,
   "metadata": {},
   "outputs": [],
   "source": [
    "df = df[df['Year'] >= 2024]"
   ]
  },
  {
   "cell_type": "code",
   "execution_count": 19,
   "metadata": {},
   "outputs": [],
   "source": [
    "df.drop_duplicates(subset=['AccountID' ,'DateFrom', 'DateTo'], inplace=True)"
   ]
  },
  {
   "cell_type": "code",
   "execution_count": 20,
   "metadata": {},
   "outputs": [],
   "source": [
    "df['Diff'] = df['AsBilled'] - df['total']"
   ]
  },
  {
   "cell_type": "code",
   "execution_count": 21,
   "metadata": {},
   "outputs": [
    {
     "data": {
      "text/html": [
       "<div>\n",
       "<style scoped>\n",
       "    .dataframe tbody tr th:only-of-type {\n",
       "        vertical-align: middle;\n",
       "    }\n",
       "\n",
       "    .dataframe tbody tr th {\n",
       "        vertical-align: top;\n",
       "    }\n",
       "\n",
       "    .dataframe thead th {\n",
       "        text-align: right;\n",
       "    }\n",
       "</style>\n",
       "<table border=\"1\" class=\"dataframe\">\n",
       "  <thead>\n",
       "    <tr style=\"text-align: right;\">\n",
       "      <th></th>\n",
       "      <th>AccountID</th>\n",
       "      <th>DateFrom</th>\n",
       "      <th>DateTo</th>\n",
       "      <th>Usage</th>\n",
       "      <th>Usage Disc</th>\n",
       "      <th>Contract Demand</th>\n",
       "      <th>AsBilled</th>\n",
       "      <th>total</th>\n",
       "      <th>Diff</th>\n",
       "    </tr>\n",
       "  </thead>\n",
       "  <tbody>\n",
       "    <tr>\n",
       "      <th>3</th>\n",
       "      <td>39241</td>\n",
       "      <td>2024-01-16</td>\n",
       "      <td>2024-02-14</td>\n",
       "      <td>134658.0</td>\n",
       "      <td>1.000002</td>\n",
       "      <td>494.4</td>\n",
       "      <td>15538.89</td>\n",
       "      <td>11880.13</td>\n",
       "      <td>3658.76</td>\n",
       "    </tr>\n",
       "    <tr>\n",
       "      <th>4</th>\n",
       "      <td>39241</td>\n",
       "      <td>2024-02-14</td>\n",
       "      <td>2024-03-15</td>\n",
       "      <td>129372.0</td>\n",
       "      <td>1.000004</td>\n",
       "      <td>494.4</td>\n",
       "      <td>15626.68</td>\n",
       "      <td>13164.09</td>\n",
       "      <td>2462.59</td>\n",
       "    </tr>\n",
       "    <tr>\n",
       "      <th>5</th>\n",
       "      <td>39241</td>\n",
       "      <td>2024-03-15</td>\n",
       "      <td>2024-04-15</td>\n",
       "      <td>129464.0</td>\n",
       "      <td>0.992441</td>\n",
       "      <td>494.4</td>\n",
       "      <td>16172.66</td>\n",
       "      <td>12087.76</td>\n",
       "      <td>4084.90</td>\n",
       "    </tr>\n",
       "    <tr>\n",
       "      <th>6</th>\n",
       "      <td>39241</td>\n",
       "      <td>2024-04-15</td>\n",
       "      <td>2024-05-14</td>\n",
       "      <td>127051.0</td>\n",
       "      <td>0.987721</td>\n",
       "      <td>494.4</td>\n",
       "      <td>18674.82</td>\n",
       "      <td>13017.87</td>\n",
       "      <td>5656.95</td>\n",
       "    </tr>\n",
       "    <tr>\n",
       "      <th>7</th>\n",
       "      <td>39241</td>\n",
       "      <td>2024-05-14</td>\n",
       "      <td>2024-06-13</td>\n",
       "      <td>174782.0</td>\n",
       "      <td>1.000005</td>\n",
       "      <td>535.6</td>\n",
       "      <td>25316.61</td>\n",
       "      <td>24012.40</td>\n",
       "      <td>1304.21</td>\n",
       "    </tr>\n",
       "    <tr>\n",
       "      <th>...</th>\n",
       "      <td>...</td>\n",
       "      <td>...</td>\n",
       "      <td>...</td>\n",
       "      <td>...</td>\n",
       "      <td>...</td>\n",
       "      <td>...</td>\n",
       "      <td>...</td>\n",
       "      <td>...</td>\n",
       "      <td>...</td>\n",
       "    </tr>\n",
       "    <tr>\n",
       "      <th>6709</th>\n",
       "      <td>65838</td>\n",
       "      <td>2024-08-14</td>\n",
       "      <td>2024-09-13</td>\n",
       "      <td>336794.0</td>\n",
       "      <td>0.996676</td>\n",
       "      <td>1243.3</td>\n",
       "      <td>63459.60</td>\n",
       "      <td>68121.42</td>\n",
       "      <td>-4661.82</td>\n",
       "    </tr>\n",
       "    <tr>\n",
       "      <th>6710</th>\n",
       "      <td>65838</td>\n",
       "      <td>2024-10-11</td>\n",
       "      <td>2024-11-13</td>\n",
       "      <td>302546.0</td>\n",
       "      <td>0.977117</td>\n",
       "      <td>1243.3</td>\n",
       "      <td>30564.86</td>\n",
       "      <td>32737.15</td>\n",
       "      <td>-2172.29</td>\n",
       "    </tr>\n",
       "    <tr>\n",
       "      <th>6713</th>\n",
       "      <td>65838</td>\n",
       "      <td>2025-01-16</td>\n",
       "      <td>2025-02-18</td>\n",
       "      <td>310228.0</td>\n",
       "      <td>0.966265</td>\n",
       "      <td>1243.3</td>\n",
       "      <td>36894.87</td>\n",
       "      <td>33175.80</td>\n",
       "      <td>3719.07</td>\n",
       "    </tr>\n",
       "    <tr>\n",
       "      <th>6714</th>\n",
       "      <td>65838</td>\n",
       "      <td>2025-02-18</td>\n",
       "      <td>2025-03-19</td>\n",
       "      <td>262481.0</td>\n",
       "      <td>0.977484</td>\n",
       "      <td>1243.3</td>\n",
       "      <td>29855.66</td>\n",
       "      <td>28736.43</td>\n",
       "      <td>1119.23</td>\n",
       "    </tr>\n",
       "    <tr>\n",
       "      <th>6715</th>\n",
       "      <td>65838</td>\n",
       "      <td>2025-04-17</td>\n",
       "      <td>2025-05-16</td>\n",
       "      <td>285638.0</td>\n",
       "      <td>0.963780</td>\n",
       "      <td>1243.3</td>\n",
       "      <td>39351.64</td>\n",
       "      <td>32361.55</td>\n",
       "      <td>6990.09</td>\n",
       "    </tr>\n",
       "  </tbody>\n",
       "</table>\n",
       "<p>4814 rows × 9 columns</p>\n",
       "</div>"
      ],
      "text/plain": [
       "      AccountID   DateFrom     DateTo     Usage  Usage Disc  Contract Demand  \\\n",
       "3         39241 2024-01-16 2024-02-14  134658.0    1.000002            494.4   \n",
       "4         39241 2024-02-14 2024-03-15  129372.0    1.000004            494.4   \n",
       "5         39241 2024-03-15 2024-04-15  129464.0    0.992441            494.4   \n",
       "6         39241 2024-04-15 2024-05-14  127051.0    0.987721            494.4   \n",
       "7         39241 2024-05-14 2024-06-13  174782.0    1.000005            535.6   \n",
       "...         ...        ...        ...       ...         ...              ...   \n",
       "6709      65838 2024-08-14 2024-09-13  336794.0    0.996676           1243.3   \n",
       "6710      65838 2024-10-11 2024-11-13  302546.0    0.977117           1243.3   \n",
       "6713      65838 2025-01-16 2025-02-18  310228.0    0.966265           1243.3   \n",
       "6714      65838 2025-02-18 2025-03-19  262481.0    0.977484           1243.3   \n",
       "6715      65838 2025-04-17 2025-05-16  285638.0    0.963780           1243.3   \n",
       "\n",
       "      AsBilled     total     Diff  \n",
       "3     15538.89  11880.13  3658.76  \n",
       "4     15626.68  13164.09  2462.59  \n",
       "5     16172.66  12087.76  4084.90  \n",
       "6     18674.82  13017.87  5656.95  \n",
       "7     25316.61  24012.40  1304.21  \n",
       "...        ...       ...      ...  \n",
       "6709  63459.60  68121.42 -4661.82  \n",
       "6710  30564.86  32737.15 -2172.29  \n",
       "6713  36894.87  33175.80  3719.07  \n",
       "6714  29855.66  28736.43  1119.23  \n",
       "6715  39351.64  32361.55  6990.09  \n",
       "\n",
       "[4814 rows x 9 columns]"
      ]
     },
     "execution_count": 21,
     "metadata": {},
     "output_type": "execute_result"
    }
   ],
   "source": [
    "df[['AccountID', 'DateFrom', 'DateTo', 'Usage', 'Usage Disc', 'Contract Demand', 'AsBilled', 'total', 'Diff']]"
   ]
  },
  {
   "cell_type": "code",
   "execution_count": 22,
   "metadata": {},
   "outputs": [],
   "source": [
    "df.drop(columns = 'Year', inplace=True)"
   ]
  },
  {
   "cell_type": "code",
   "execution_count": 23,
   "metadata": {},
   "outputs": [
    {
     "name": "stdout",
     "output_type": "stream",
     "text": [
      "[===================================================================================================================================================================================================================================================================================================================================================================================================================================================]\n"
     ]
    }
   ],
   "source": [
    "acc_list = df.groupby('AccountID')['Diff'].sum().reset_index().sort_values(by='Diff', ascending=False)['AccountID'].tolist()\n",
    "\n",
    "incomplete_final_df = pd.DataFrame()\n",
    "final_df = pd.DataFrame()\n",
    "\n",
    "for acc in acc_list:\n",
    "    sub_df = df[df['AccountID'] == acc].sort_values(by='DateTo')\n",
    "    if len(sub_df) > 12:\n",
    "        sub_df = sub_df.tail(12)\n",
    "\n",
    "    sub_df = sub_df[['AccountID','DateFrom','DateTo','Usage','Usage Disc','Demand','Contract Demand', 'AsBilled','total','Diff']]\n",
    "    \n",
    "    as_billed = sub_df['AsBilled'].sum()\n",
    "    Standby = sub_df['total'].sum()\n",
    "    total_savings = sub_df['Diff'].sum()\n",
    "\n",
    "    cols_len = len(sub_df.columns.tolist())\n",
    "\n",
    "    row_plus_one = (cols_len - 3) * [' '] + [old_rate, new_rate, 'Savings']\n",
    "    row_plus_two = (cols_len - 3) * [' '] + [as_billed, Standby, total_savings]\n",
    "    row_plus_three = cols_len * [' ']\n",
    "\n",
    "    sub_df.loc[len(sub_df)] = row_plus_one\n",
    "    sub_df.loc[len(sub_df)] = row_plus_two\n",
    "    sub_df.loc[len(sub_df)] = row_plus_three\n",
    "\n",
    "    if len(sub_df) >= 15:\n",
    "        final_df = pd.concat([final_df, sub_df])\n",
    "\n",
    "    incomplete_final_df = pd.concat([incomplete_final_df, sub_df])\n",
    "\n",
    "    progress = acc_list.index(acc)\n",
    "    left = len(acc_list) - progress\n",
    "    print(f'[{progress * \"=\"}{left * \"-\"}]')\n",
    "    clear_output(wait=True)\n",
    "    \n",
    "print(f'[{len(acc_list) * \"=\"}]')"
   ]
  },
  {
   "cell_type": "code",
   "execution_count": 24,
   "metadata": {},
   "outputs": [
    {
     "name": "stderr",
     "output_type": "stream",
     "text": [
      "C:\\Users\\local_nmilinkovich\\Temp\\ipykernel_10812\\4109330817.py:11: UserWarning: pandas only supports SQLAlchemy connectable (engine/connection) or database string URI or sqlite3 DBAPI2 connection. Other DBAPI2 objects are not tested. Please consider using SQLAlchemy.\n",
      "  bills = pd.read_sql(sql1, conn1)\n",
      "C:\\Users\\local_nmilinkovich\\Temp\\ipykernel_10812\\4109330817.py:11: UserWarning: pandas only supports SQLAlchemy connectable (engine/connection) or database string URI or sqlite3 DBAPI2 connection. Other DBAPI2 objects are not tested. Please consider using SQLAlchemy.\n",
      "  bills = pd.read_sql(sql1, conn1)\n"
     ]
    }
   ],
   "source": [
    "incomplete_final_df = incomplete_final_df.merge(Acc(incomplete_final_df[incomplete_final_df['AccountID'] != ' ']['AccountID'].dropna().astype(str).tolist(), conn1), how='left')\n",
    "final_df = final_df.merge(Acc(final_df[final_df['AccountID'] != ' ']['AccountID'].dropna().astype(str).tolist(), conn1), how='left')"
   ]
  },
  {
   "cell_type": "code",
   "execution_count": 25,
   "metadata": {},
   "outputs": [],
   "source": [
    "incomplete_final_df = incomplete_final_df[['AccountNumber','Client', 'AccountID', 'DateFrom', 'DateTo', 'Usage', 'Demand', 'Usage Disc', 'Contract Demand', 'AsBilled',\n",
    "        'total', 'Diff']].rename(columns = {\n",
    "           'Usage Disc':'AMI / Bill Usage',\n",
    "           'AsBilled':old_rate,\n",
    "           'total':new_rate,\n",
    "           'Diff':'Savings'\n",
    "       })"
   ]
  },
  {
   "cell_type": "code",
   "execution_count": 26,
   "metadata": {},
   "outputs": [],
   "source": [
    "final_df = final_df[['AccountNumber','Client', 'AccountID', 'DateFrom', 'DateTo', 'Usage', 'Demand', 'Usage Disc', 'Contract Demand', 'AsBilled',\n",
    "        'total', 'Diff']].rename(columns = {\n",
    "           'Usage Disc':'AMI / Bill Usage',\n",
    "           'AsBilled':old_rate,\n",
    "           'total':new_rate,\n",
    "           'Diff':'Savings'\n",
    "       })"
   ]
  },
  {
   "cell_type": "code",
   "execution_count": 27,
   "metadata": {},
   "outputs": [],
   "source": [
    "incomplete_final_df.to_excel(f'H:\\Downloads\\{new_rate} Standby Analysis Partial Data {datetime.now().strftime(\"%m-%d-%Y\")}.xlsx', index=False)\n",
    "final_df.to_excel(f'H:\\Downloads\\{new_rate} Standby Analysis {datetime.now().strftime(\"%m-%d-%Y\")}.xlsx', index=False)"
   ]
  },
  {
   "cell_type": "markdown",
   "metadata": {},
   "source": [
    "END CLEANING"
   ]
  },
  {
   "cell_type": "code",
   "execution_count": 28,
   "metadata": {},
   "outputs": [],
   "source": [
    "diff = final_df[(final_df['Contract Demand'] == ' ') &\n",
    "~(final_df['Savings'].isin(['Savings', ' ']))]['Savings'].astype(float).values"
   ]
  },
  {
   "cell_type": "code",
   "execution_count": 29,
   "metadata": {},
   "outputs": [
    {
     "data": {
      "text/plain": [
       "-4462.043617926788"
      ]
     },
     "execution_count": 29,
     "metadata": {},
     "output_type": "execute_result"
    }
   ],
   "source": [
    "diff[np.where(diff < 0)].mean()"
   ]
  },
  {
   "cell_type": "code",
   "execution_count": 30,
   "metadata": {},
   "outputs": [
    {
     "data": {
      "text/plain": [
       "2253.3648851694506"
      ]
     },
     "execution_count": 30,
     "metadata": {},
     "output_type": "execute_result"
    }
   ],
   "source": [
    "diff[np.where(diff > 0)].mean()"
   ]
  },
  {
   "cell_type": "code",
   "execution_count": 31,
   "metadata": {},
   "outputs": [
    {
     "data": {
      "text/plain": [
       "130"
      ]
     },
     "execution_count": 31,
     "metadata": {},
     "output_type": "execute_result"
    }
   ],
   "source": [
    "len(diff[np.where(diff < 0)])"
   ]
  },
  {
   "cell_type": "code",
   "execution_count": 32,
   "metadata": {},
   "outputs": [
    {
     "data": {
      "text/plain": [
       "252"
      ]
     },
     "execution_count": 32,
     "metadata": {},
     "output_type": "execute_result"
    }
   ],
   "source": [
    "final_df['AccountID'].nunique()"
   ]
  },
  {
   "cell_type": "code",
   "execution_count": 33,
   "metadata": {},
   "outputs": [
    {
     "data": {
      "text/plain": [
       "Savings\n",
       "False    130\n",
       "True     121\n",
       "Name: count, dtype: int64"
      ]
     },
     "execution_count": 33,
     "metadata": {},
     "output_type": "execute_result"
    }
   ],
   "source": [
    "(final_df[(final_df['AccountNumber'].astype(str).str.len() < 5) &\n",
    "         (~final_df['Savings'].isin(['Savings', ' ']))]['Savings'] > 0).value_counts()"
   ]
  },
  {
   "cell_type": "code",
   "execution_count": 93,
   "metadata": {},
   "outputs": [
    {
     "data": {
      "text/html": [
       "<div>\n",
       "<style scoped>\n",
       "    .dataframe tbody tr th:only-of-type {\n",
       "        vertical-align: middle;\n",
       "    }\n",
       "\n",
       "    .dataframe tbody tr th {\n",
       "        vertical-align: top;\n",
       "    }\n",
       "\n",
       "    .dataframe thead th {\n",
       "        text-align: right;\n",
       "    }\n",
       "</style>\n",
       "<table border=\"1\" class=\"dataframe\">\n",
       "  <thead>\n",
       "    <tr style=\"text-align: right;\">\n",
       "      <th></th>\n",
       "      <th>AccountID</th>\n",
       "      <th>Savings</th>\n",
       "    </tr>\n",
       "  </thead>\n",
       "  <tbody>\n",
       "    <tr>\n",
       "      <th>0</th>\n",
       "      <td>20845</td>\n",
       "      <td>945.885868</td>\n",
       "    </tr>\n",
       "    <tr>\n",
       "      <th>1</th>\n",
       "      <td>20856</td>\n",
       "      <td>-25228.111561</td>\n",
       "    </tr>\n",
       "    <tr>\n",
       "      <th>2</th>\n",
       "      <td>23362</td>\n",
       "      <td>100.81</td>\n",
       "    </tr>\n",
       "    <tr>\n",
       "      <th>3</th>\n",
       "      <td>23364</td>\n",
       "      <td>211.82</td>\n",
       "    </tr>\n",
       "    <tr>\n",
       "      <th>4</th>\n",
       "      <td>23549</td>\n",
       "      <td>-13533.65</td>\n",
       "    </tr>\n",
       "    <tr>\n",
       "      <th>...</th>\n",
       "      <td>...</td>\n",
       "      <td>...</td>\n",
       "    </tr>\n",
       "    <tr>\n",
       "      <th>246</th>\n",
       "      <td>65827</td>\n",
       "      <td>889.230132</td>\n",
       "    </tr>\n",
       "    <tr>\n",
       "      <th>247</th>\n",
       "      <td>65836</td>\n",
       "      <td>6700.55</td>\n",
       "    </tr>\n",
       "    <tr>\n",
       "      <th>248</th>\n",
       "      <td>65838</td>\n",
       "      <td>-14315.98</td>\n",
       "    </tr>\n",
       "    <tr>\n",
       "      <th>249</th>\n",
       "      <td>65842</td>\n",
       "      <td>-1959.06</td>\n",
       "    </tr>\n",
       "    <tr>\n",
       "      <th>250</th>\n",
       "      <td>65845</td>\n",
       "      <td>2257.83</td>\n",
       "    </tr>\n",
       "  </tbody>\n",
       "</table>\n",
       "<p>251 rows × 2 columns</p>\n",
       "</div>"
      ],
      "text/plain": [
       "     AccountID       Savings\n",
       "0        20845    945.885868\n",
       "1        20856 -25228.111561\n",
       "2        23362        100.81\n",
       "3        23364        211.82\n",
       "4        23549     -13533.65\n",
       "..         ...           ...\n",
       "246      65827    889.230132\n",
       "247      65836       6700.55\n",
       "248      65838     -14315.98\n",
       "249      65842      -1959.06\n",
       "250      65845       2257.83\n",
       "\n",
       "[251 rows x 2 columns]"
      ]
     },
     "execution_count": 93,
     "metadata": {},
     "output_type": "execute_result"
    }
   ],
   "source": [
    "final_df.dropna().groupby('AccountID')['Savings'].sum().reset_index()"
   ]
  },
  {
   "cell_type": "code",
   "execution_count": 109,
   "metadata": {},
   "outputs": [],
   "source": [
    "proto = final_df.dropna().groupby('AccountID')['Savings'].sum().reset_index()\n",
    "saved = final_df[final_df['AccountID'].isin(proto[proto['Savings'] > 0]['AccountID'].tolist())]\n",
    "lost = final_df[final_df['AccountID'].isin(proto[proto['Savings'] < 0]['AccountID'].tolist())]"
   ]
  },
  {
   "cell_type": "code",
   "execution_count": 110,
   "metadata": {},
   "outputs": [
    {
     "name": "stdout",
     "output_type": "stream",
     "text": [
      "Customers who saved saving pct: 7.1%\n",
      "Customers who saved savings: $2253.36\n",
      "Customers who saved saving pct: -19.6%\n",
      "Customers who saved savings: $-4462.04\n"
     ]
    }
   ],
   "source": [
    "print(f\"Customers who saved saving pct: {(saved.groupby('AccountID')['Savings'].sum() / saved.groupby('AccountID')[old_rate].sum()).mean().round(3) * 100}%\")\n",
    "print(f\"Customers who saved savings: ${(saved.groupby('AccountID')['Savings'].sum().mean().round(2))}\")\n",
    "\n",
    "print(f\"Customers who saved saving pct: {(lost.groupby('AccountID')['Savings'].sum() / lost.groupby('AccountID')[old_rate].sum()).mean().round(3) * 100}%\")\n",
    "print(f\"Customers who saved savings: ${(lost.groupby('AccountID')['Savings'].sum().mean().round(2))}\")"
   ]
  },
  {
   "cell_type": "code",
   "execution_count": 112,
   "metadata": {},
   "outputs": [
    {
     "data": {
      "text/plain": [
       "272657.1511055037"
      ]
     },
     "execution_count": 112,
     "metadata": {},
     "output_type": "execute_result"
    }
   ],
   "source": [
    "saved['Savings'].sum()"
   ]
  },
  {
   "cell_type": "markdown",
   "metadata": {},
   "source": [
    "PRINTING CHARGES FOR VERIFICATION"
   ]
  },
  {
   "cell_type": "code",
   "execution_count": 36,
   "metadata": {},
   "outputs": [],
   "source": [
    "demo = calcs[calcs['DateFrom'] == '1/16/2024'].iloc[1][calcs.columns[:6]].reset_index().T.to_dict()"
   ]
  },
  {
   "cell_type": "code",
   "execution_count": 91,
   "metadata": {},
   "outputs": [
    {
     "data": {
      "text/plain": [
       "{'index': 'customer_charge',\n",
       " 355: \"{'amount': 63.8, 'description': 'Fixed monthly customer service charge'}\"}"
      ]
     },
     "execution_count": 91,
     "metadata": {},
     "output_type": "execute_result"
    }
   ],
   "source": [
    "demo[0]"
   ]
  },
  {
   "cell_type": "code",
   "execution_count": 39,
   "metadata": {},
   "outputs": [
    {
     "data": {
      "text/plain": [
       "252"
      ]
     },
     "execution_count": 39,
     "metadata": {},
     "output_type": "execute_result"
    }
   ],
   "source": [
    "final_df['AccountID'].nunique()"
   ]
  },
  {
   "cell_type": "code",
   "execution_count": 38,
   "metadata": {},
   "outputs": [
    {
     "data": {
      "text/plain": [
       "436"
      ]
     },
     "execution_count": 38,
     "metadata": {},
     "output_type": "execute_result"
    }
   ],
   "source": [
    "incomplete_final_df['AccountID'].nunique()"
   ]
  },
  {
   "cell_type": "code",
   "execution_count": 35,
   "metadata": {},
   "outputs": [],
   "source": [
    "import pprint\n",
    "\n",
    "def pretty_print_charges(data):\n",
    "    for key, value in data.items():\n",
    "        print(f\"\\n=== Component {key + 1} ===\")\n",
    "        print(f\"Type: {value.get('index')}\")\n",
    "        \n",
    "        for inner_key, inner_val in value.items():\n",
    "            if inner_key == 'index':\n",
    "                continue\n",
    "            try:\n",
    "                parsed = ast.literal_eval(inner_val)\n",
    "                for k, v in parsed.items():\n",
    "                    if k == \"breakdown\" and isinstance(v, dict):\n",
    "                        print(\"Breakdown:\")\n",
    "                        for subk, subv in v.items():\n",
    "                            print(f\"  - {subk.replace('_', ' ').capitalize()}:\")\n",
    "                            for leafk, leafv in subv.items():\n",
    "                                print(f\"      {leafk.replace('_', ' ')}: {leafv}\")\n",
    "                    else:\n",
    "                        print(f\"{k.replace('_', ' ').capitalize()}: {v}\")\n",
    "            except (ValueError, SyntaxError):\n",
    "                print(f\"Raw Value: {inner_val}\")\n",
    "\n"
   ]
  },
  {
   "cell_type": "code",
   "execution_count": 37,
   "metadata": {},
   "outputs": [
    {
     "name": "stdout",
     "output_type": "stream",
     "text": [
      "\n",
      "=== Component 1 ===\n",
      "Type: customer_charge\n",
      "Amount: 63.8\n",
      "Description: Fixed monthly customer service charge\n",
      "\n",
      "=== Component 2 ===\n",
      "Type: processing_charge\n",
      "Amount: 0.0\n",
      "Description: Billing & payment processing fee\n",
      "\n",
      "=== Component 3 ===\n",
      "Type: energy_surcharge\n",
      "Amount: 79.29\n",
      "Rate per kwh: 0.004864\n",
      "Usage kwh: 16302.0\n",
      "Breakdown:\n",
      "  - Mac reconciliation:\n",
      "      rate per kWh: 0.001985\n",
      "      charge: 32.35947\n",
      "  - Mac uncollectiblebill expense:\n",
      "      rate per kWh: 0.00026\n",
      "      charge: 4.23852\n",
      "  - Mac transition adjustment:\n",
      "      rate per kWh: 7e-06\n",
      "      charge: 0.114114\n",
      "  - Monthly adjustment clause:\n",
      "      rate per kWh: 0.00384\n",
      "      charge: 62.59968\n",
      "  - Revenue decoupling mechanism adjustment:\n",
      "      rate per kWh: -0.0015\n",
      "      charge: -24.453\n",
      "  - Clean energy fund surcharge:\n",
      "      rate per kWh: 0.0\n",
      "      charge: 0.0\n",
      "  - Energy efficiency tracker:\n",
      "      rate per kWh: 0.0\n",
      "      charge: 0.0\n",
      "  - Ancillary services charges:\n",
      "      rate per kWh: 0.0\n",
      "      charge: 0.0\n",
      "  - Nypa transmission adjustment charge:\n",
      "      rate per kWh: 0.0\n",
      "      charge: 0.0\n",
      "  - Transco facilities charges:\n",
      "      rate per kWh: 0.0\n",
      "      charge: 0.0\n",
      "  - Integrated energy data resource surcharge:\n",
      "      rate per kWh: 0.0\n",
      "      charge: 0.0\n",
      "  - Clean energy standard delivery surcharge  costs associated with backstop charges:\n",
      "      rate per kWh: 0.000272\n",
      "      charge: 4.434144\n",
      "  - Clean energy standard delivery surcharge  costs associated with the nyserda residential and retail:\n",
      "      rate per kWh: 0.0\n",
      "      charge: 0.0\n",
      "  - Costs associated with the nyserda integrated energy data resource phase 2 program:\n",
      "      rate per kWh: 0.0\n",
      "      charge: 0.0\n",
      "Description: Total of all $/kWh delivery surcharges\n",
      "\n",
      "=== Component 4 ===\n",
      "Type: demand_charge_summer\n",
      "Amount: 0.0\n",
      "Midpeak kwh sum: 0.0\n",
      "Midpeak rate: 0.6283\n",
      "Peak kwh sum: 0.0\n",
      "Peak rate: 2.1427\n",
      "Description: Sum of midpeak and peak weekday demand (Summer)\n",
      "\n",
      "=== Component 5 ===\n",
      "Type: demand_charge_nonsummer\n",
      "Amount: 670.02\n",
      "Sum daily max kw: 608.22\n",
      "Rate: 1.1016\n",
      "Description: Sum of daily weekday max(kW) for Non-Summer\n",
      "\n",
      "=== Component 6 ===\n",
      "Type: contract_demand_charge\n",
      "Amount: 307.23\n",
      "Kw: 36.7\n",
      "Rate: 8.371333333333334\n",
      "Description: Fixed monthly rate based on contracted demand\n"
     ]
    }
   ],
   "source": [
    "pretty_print_charges(demo)"
   ]
  },
  {
   "cell_type": "code",
   "execution_count": null,
   "metadata": {},
   "outputs": [],
   "source": []
  }
 ],
 "metadata": {
  "kernelspec": {
   "display_name": "Python 3",
   "language": "python",
   "name": "python3"
  },
  "language_info": {
   "codemirror_mode": {
    "name": "ipython",
    "version": 3
   },
   "file_extension": ".py",
   "mimetype": "text/x-python",
   "name": "python",
   "nbconvert_exporter": "python",
   "pygments_lexer": "ipython3",
   "version": "3.11.3"
  },
  "orig_nbformat": 4
 },
 "nbformat": 4,
 "nbformat_minor": 2
}

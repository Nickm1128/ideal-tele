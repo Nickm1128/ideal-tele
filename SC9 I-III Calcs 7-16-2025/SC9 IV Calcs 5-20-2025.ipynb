{
 "cells": [
  {
   "cell_type": "code",
   "execution_count": 4,
   "metadata": {},
   "outputs": [],
   "source": [
    "import sys\n",
    "import os\n",
    "\n",
    "sys.path.append(os.path.abspath(os.path.join(os.getcwd(), \"..\")))"
   ]
  },
  {
   "cell_type": "code",
   "execution_count": 5,
   "metadata": {},
   "outputs": [],
   "source": [
    "import pandas as pd \n",
    "import numpy as np \n",
    "import pyodbc\n",
    "import ast\n",
    "from datetime import datetime\n",
    "import json\n",
    "import re\n",
    "import AccConv as ac"
   ]
  },
  {
   "cell_type": "code",
   "execution_count": 6,
   "metadata": {},
   "outputs": [],
   "source": [
    "ac.SupressWarnings()"
   ]
  },
  {
   "cell_type": "code",
   "execution_count": 7,
   "metadata": {},
   "outputs": [],
   "source": [
    "def string_to_list(s):\n",
    "    try:\n",
    "        result = ast.literal_eval(s)\n",
    "        if isinstance(result, list):\n",
    "            return result\n",
    "        else:\n",
    "            raise ValueError(\"The string does not represent a list.\")\n",
    "    except Exception as e:\n",
    "        print(f\"Error: {e}\")\n",
    "        return None\n"
   ]
  },
  {
   "cell_type": "code",
   "execution_count": 8,
   "metadata": {},
   "outputs": [],
   "source": [
    "def calculate_bill(\n",
    "    daily_demand_df,\n",
    "    usage_kwh,\n",
    "    start_date,\n",
    "    end_date,\n",
    "    rate_data,\n",
    "    contract_demand_kW=0.0\n",
    "):\n",
    "    \"\"\"\n",
    "    Calculate a detailed electric delivery bill based on as-used demand and energy usage.\n",
    "\n",
    "    Parameters:\n",
    "    - daily_demand_df (DataFrame): Must contain 'Date', 'MidPeakDemand_kW', 'PeakDemand_kW'\n",
    "    - usage_kwh (float): Total energy usage during billing period\n",
    "    - start_date (str or datetime): Billing period start date\n",
    "    - end_date (str or datetime): Billing period end date\n",
    "    - rate_data (dict): Rate structure extracted via extract_rate_data\n",
    "    - contract_demand_kW (float): Contracted demand in kW\n",
    "\n",
    "    Returns:\n",
    "    - dict: Itemized breakdown of charges and total bill\n",
    "    \"\"\"\n",
    "\n",
    "    # --- Date Handling ---\n",
    "    start_date = pd.to_datetime(start_date)\n",
    "    end_date = pd.to_datetime(end_date)\n",
    "    daily_demand_df['Date'] = pd.to_datetime(daily_demand_df['Date'])\n",
    "\n",
    "    # --- Weekday Filtering for Billing Period ---\n",
    "    billing_df = daily_demand_df[\n",
    "        (daily_demand_df['Date'] >= start_date) &\n",
    "        (daily_demand_df['Date'] <= end_date) &\n",
    "        (daily_demand_df['Date'].dt.weekday < 5)\n",
    "    ].copy()\n",
    "\n",
    "    # --- Seasonal Masks ---\n",
    "    billing_df['Month'] = billing_df['Date'].dt.month\n",
    "    summer_mask = billing_df['Month'].isin([6, 7, 8, 9])  # June through Sept\n",
    "\n",
    "    # --- Contract Demand Charge ---\n",
    "    contract_demand_rate = rate_data.get('contract_demand_rate', 0.0)\n",
    "    contract_demand_charge = contract_demand_kW * contract_demand_rate\n",
    "\n",
    "    # --- Summer As-Used Demand ---\n",
    "    summer_df = billing_df[summer_mask]\n",
    "    midpeak_kW_summer = summer_df['MidPeakDemand_kW'].fillna(0).sum()\n",
    "    peak_kW_summer = summer_df['PeakDemand_kW'].fillna(0).sum()\n",
    "\n",
    "    midpeak_rate = rate_data.get('midpeak_rate_summer', 0.0)\n",
    "    peak_rate = rate_data.get('peak_rate_summer', 0.0)\n",
    "    demand_charge_summer = (\n",
    "        midpeak_kW_summer * midpeak_rate +\n",
    "        peak_kW_summer * peak_rate\n",
    "    )\n",
    "\n",
    "    # --- Non-Summer As-Used Demand ---\n",
    "    nonsummer_df = billing_df[~summer_mask][['MidPeakDemand_kW', 'PeakDemand_kW']].fillna(0)\n",
    "    # Use highest daily kW of either midpeak or peak per day\n",
    "    nonsummer_daily_max = nonsummer_df.max(axis=1).sum()\n",
    "\n",
    "    as_used_rate_nonsummer = rate_data.get('as_used_rate_nonsummer', 0.0)\n",
    "    demand_charge_nonsummer = nonsummer_daily_max * as_used_rate_nonsummer\n",
    "\n",
    "    # --- Energy-Based Surcharge ---\n",
    "    surcharge_rate = rate_data.get('surcharge_rate', 0.0)\n",
    "    surcharge_charge = usage_kwh * surcharge_rate\n",
    "    kwh_breakdown = rate_data.get('kwh_charge_breakdown', {})\n",
    "    energy_breakdown = {\n",
    "        k: {\n",
    "            'rate_per_kWh': v,\n",
    "            'charge': round(v * usage_kwh, 10)\n",
    "        } for k, v in kwh_breakdown.items()\n",
    "    }\n",
    "\n",
    "\n",
    "    # --- Fixed Monthly Charges ---\n",
    "    customer_charge = rate_data.get('customer_charge', 0.0)\n",
    "    processing_charge = rate_data.get('processing_charge', 0.0)\n",
    "    fixed_charges = customer_charge + processing_charge\n",
    "\n",
    "    # --- Total Delivery Bill ---\n",
    "    total = (\n",
    "        fixed_charges +\n",
    "        contract_demand_charge +\n",
    "        demand_charge_summer +\n",
    "        demand_charge_nonsummer +\n",
    "        surcharge_charge\n",
    "    )\n",
    "\n",
    "    # --- Return Detailed Breakdown ---\n",
    "    return {\n",
    "        'customer_charge': {\n",
    "            'amount': round(customer_charge, 2),\n",
    "            'description': 'Fixed monthly customer service charge'\n",
    "        },\n",
    "        'processing_charge': {\n",
    "            'amount': round(processing_charge, 2),\n",
    "            'description': 'Billing & payment processing fee'\n",
    "        },\n",
    "        'energy_surcharge': {\n",
    "                'amount': round(surcharge_charge, 2),\n",
    "                'rate_per_kWh': round(surcharge_rate, 10),\n",
    "                'usage_kWh': usage_kwh,\n",
    "                'breakdown': energy_breakdown,\n",
    "                'description': 'Total of all $/kWh delivery surcharges'\n",
    "            },\n",
    "\n",
    "        'demand_charge_summer': {\n",
    "            'amount': round(demand_charge_summer, 2),\n",
    "            'midpeak_kWh_sum': round(midpeak_kW_summer, 2),\n",
    "            'midpeak_rate': midpeak_rate,\n",
    "            'peak_kWh_sum': round(peak_kW_summer, 2),\n",
    "            'peak_rate': peak_rate,\n",
    "            'description': 'Sum of midpeak and peak weekday demand (Summer)'\n",
    "        },\n",
    "        'demand_charge_nonsummer': {\n",
    "            'amount': round(demand_charge_nonsummer, 2),\n",
    "            'sum_daily_max_kW': round(nonsummer_daily_max, 2),\n",
    "            'rate': as_used_rate_nonsummer,\n",
    "            'description': 'Sum of daily weekday max(kW) for Non-Summer'\n",
    "        },\n",
    "        'contract_demand_charge': {\n",
    "            'amount': round(contract_demand_charge, 2),\n",
    "            'kW': contract_demand_kW,\n",
    "            'rate': contract_demand_rate,\n",
    "            'description': 'Fixed monthly rate based on contracted demand'\n",
    "        },\n",
    "        'total': round(total, 2)\n",
    "    }\n"
   ]
  },
  {
   "cell_type": "code",
   "execution_count": 9,
   "metadata": {},
   "outputs": [],
   "source": [
    "def extract_rate_data(rates, charges_df, start_date, end_date, city=\"New York City\"):\n",
    "    if isinstance(start_date, str): start_date = pd.to_datetime(start_date)\n",
    "    if isinstance(end_date, str): end_date = pd.to_datetime(end_date)\n",
    "    billing_days = (end_date - start_date).days\n",
    "\n",
    "    def get_effective_rate(entries, field, date_col='EffectiveDate'):\n",
    "        df = pd.DataFrame(entries)\n",
    "        df[date_col] = pd.to_datetime(df[date_col])\n",
    "        df = df[df[date_col] <= end_date]\n",
    "        if df.empty:\n",
    "            return 0.0\n",
    "        return float(df.sort_values(date_col).iloc[-1][field])\n",
    "\n",
    "    def extract_summer_demand_rate(entries, start_time, end_time):\n",
    "        df = pd.DataFrame(entries)\n",
    "        df['EffectiveDate'] = pd.to_datetime(df['EffectiveDate'])\n",
    "        df = df[\n",
    "            (df['StartTime'] == start_time) &\n",
    "            (df['EndTime'] == end_time) &\n",
    "            (df['Season'].str.strip().str.lower() == 'june-sept') &\n",
    "            (df['EffectiveDate'] <= end_date)\n",
    "        ]\n",
    "        if df.empty:\n",
    "            return 0.0\n",
    "        return float(df.sort_values('EffectiveDate').iloc[-1]['RatekW'])\n",
    "\n",
    "    def get_weighted_average(entries, field):\n",
    "        df = pd.DataFrame(entries)\n",
    "        df['EffectiveDate'] = pd.to_datetime(df['EffectiveDate'])\n",
    "        df = df[df['EffectiveDate'] <= end_date]\n",
    "        df = df.sort_values('EffectiveDate')\n",
    "        if df.empty:\n",
    "            return 0.0\n",
    "\n",
    "        weights, rates = [], []\n",
    "        for i, row in df.iterrows():\n",
    "            eff_date = max(row['EffectiveDate'], start_date)\n",
    "            if i + 1 < len(df):\n",
    "                next_date = min(end_date, df.iloc[i + 1]['EffectiveDate'] )#- pd.Timedelta(days=1))\n",
    "            else:\n",
    "                next_date = end_date\n",
    "            days = (next_date - eff_date).days #+ 1\n",
    "            if days < 0:\n",
    "                continue\n",
    "\n",
    "            weights.append(days)\n",
    "            rates.append(float(row[field]))\n",
    "\n",
    "        total_days = sum(weights)\n",
    "        return sum(w * r for w, r in zip(weights, rates)) / total_days if total_days > 0 else 0.0\n",
    "\n",
    "    def extract(table_key, field_name, desc_match, charge_meta):\n",
    "        entries = [e for e in rates.get(table_key, []) if desc_match.lower() in e['Description'].lower()]\n",
    "        if not entries:\n",
    "            print(f'No charge found for {desc_match}')\n",
    "            return 0.0\n",
    "\n",
    "        if charge_meta.get('Weighted', False):\n",
    "            rate = get_weighted_average(entries, field_name)\n",
    "        else:\n",
    "            rate = get_effective_rate(entries, field_name)\n",
    "\n",
    "        if charge_meta.get('Prorated', False):\n",
    "            rate *= billing_days / 30\n",
    "\n",
    "        return rate\n",
    "\n",
    "    rate_data = {}\n",
    "    kwh_charges = {}\n",
    "\n",
    "    for _, row in charges_df.iterrows():\n",
    "        desc = row['Description']\n",
    "        key = desc.lower().strip()#.replace(\" \", \"_\").replace(\"-\", \"\").replace(\"/\", \"\").replace(\":\", \"\")\n",
    "\n",
    "        if row['Unit'] == 'kWh' and row['ServiceTypeId'] in [0, 2]:\n",
    "            rate = extract('Energy_Table', 'RatekWh', desc, row)\n",
    "            kwh_charges[key] = round(rate, 10)\n",
    "\n",
    "        elif row['Unit'] == 'kW':\n",
    "            rate = extract('Demand_Table', 'RatekW', desc, row)\n",
    "\n",
    "        elif 'Customer Charge' in desc:\n",
    "            rate = extract('ServiceCharge_Table', 'Rate', desc, row)\n",
    "\n",
    "        elif 'Processing' in desc:\n",
    "            rate = extract('OtherCharges_Table', 'ChargeType', desc, row)\n",
    "\n",
    "        else:\n",
    "            continue\n",
    "\n",
    "        rate_data[key] = round(rate, 10)\n",
    "\n",
    "    # Ensure Monthly Adjustment Clause is captured if present\n",
    "    # mac_desc = \"Monthly Adjustment Clause\"\n",
    "    # mac_entries = [\n",
    "    #     e for e in rates.get(\"Energy_Table\", [])\n",
    "    #     if mac_desc.lower() in e[\"Description\"].lower()\n",
    "    # ]\n",
    "    # if mac_entries:\n",
    "    #     mac_df = pd.DataFrame(mac_entries)\n",
    "    #     mac_df[\"EffectiveDate\"] = pd.to_datetime(mac_df[\"EffectiveDate\"])\n",
    "    #     mac_df = mac_df[mac_df[\"EffectiveDate\"] <= end_date]\n",
    "    #     if not mac_df.empty:\n",
    "    #         latest_mac = mac_df.sort_values(\"EffectiveDate\").iloc[-1]\n",
    "    #         kwh_charges['monthly_adjustment_clause'] = round(float(latest_mac[\"RatekWh\"]), 10)\n",
    "\n",
    "    rate_data_mapped = {\n",
    "        'midpeak_rate_summer': extract_summer_demand_rate(rates[\"DemandTime_Table\"], \"800\", \"1759\"),\n",
    "        'peak_rate_summer': extract_summer_demand_rate(rates[\"DemandTime_Table\"], \"800\", \"2159\"),\n",
    "        'as_used_rate_nonsummer': extract(\n",
    "            'DemandTime_Table', 'RatekW',\n",
    "            'As-used Daily Demand Delivery Charge',\n",
    "            {'Weighted': False, 'Prorated': False}\n",
    "        ),\n",
    "        'surcharge_rate': sum(v for v in kwh_charges.values()),\n",
    "        'customer_charge': rate_data.get('customer_charge', 0.0),\n",
    "        'processing_charge': rate_data.get('billing_and_payment_processing_ch', 0.0),\n",
    "        'contract_demand_rate': extract(\n",
    "            'Demand_Table', 'RatekW',\n",
    "            'Contract Demand Delivery Charge',\n",
    "            {'Weighted': False, 'Prorated': True}\n",
    "        ),\n",
    "        'delivery_tax_rate': 0.0,  # not implemented\n",
    "        'kwh_charge_breakdown': kwh_charges\n",
    "    }\n",
    "\n",
    "    return rate_data_mapped"
   ]
  },
  {
   "cell_type": "code",
   "execution_count": 10,
   "metadata": {},
   "outputs": [],
   "source": [
    "conn1 = pyodbc.connect('Driver={SQL Server};'\n",
    "                              'Server=UTIL-PROD-DB;'\n",
    "                              'Database=NewClientInfo;')\n",
    "sql1 = \"\"\"SELECT TOP (1000) [Id]\n",
    "      ,[RateAcuityRateId]\n",
    "      ,[EffectiveDate]\n",
    "      ,[RateHistory]\n",
    "      ,[CreatedBy]\n",
    "      ,[CreatedDate]\n",
    "      ,[ModifiedBy]\n",
    "      ,[ModifiedDate]\n",
    "  FROM [ExternalData].[dbo].[RateAcuityRateHistory]\n",
    "  WHERE RateAcuityRateId = 22\n",
    "\"\"\"\n",
    "history = string_to_list(pd.read_sql(sql1,conn1)['RateHistory'][0])[0]"
   ]
  },
  {
   "cell_type": "code",
   "execution_count": 11,
   "metadata": {},
   "outputs": [],
   "source": [
    "sql1 = \"\"\"\n",
    "SELECT TOP (1000) [Id]\n",
    "      ,[RateAcuityRateId]\n",
    "      ,[RateAcuityChargeId]\n",
    "      ,[RateAcuityChargeDescription] AS 'Description'\n",
    "      ,[RateAcuityChargeSeason]\n",
    "      ,[RateAcuityChargeStartDate]\n",
    "      ,[RateAcuityChargeEndDate]\n",
    "      ,[RateAcuityChargeStartTime]\n",
    "      ,[RateAcuityChargeEndTime]\n",
    "      ,[RateAcuityChargeTimeOfDay]\n",
    "      ,[RateAcuityChargeDeterminant] AS 'Unit'\n",
    "      ,[ChargeTypeId]\n",
    "      ,[ChargeParameterTypeId]\n",
    "      ,[UsageType]\n",
    "      ,[WeightedAverage] AS 'Weighted'\n",
    "      ,[Prorated]\n",
    "      ,[Block]\n",
    "      ,[ServiceTypeId]\n",
    "      ,[RatchetChargeDetailsId]\n",
    "      ,[Complete]\n",
    "      ,[CreatedBy]\n",
    "      ,[CreatedDate]\n",
    "      ,[ModifiedBy]\n",
    "      ,[ModifiedDate]\n",
    "  FROM [ExternalData].[dbo].[ChargeConfiguration]\n",
    "  WHERE RateAcuityRateId = 22\n",
    "  AND RateAcuityChargeDescription NOT LIKE '%Average Supply Charge%'\n",
    "  AND [ChargeTypeId] IN (0, 2)\n",
    "\n",
    "\"\"\"\n",
    "charges = pd.read_sql(sql1,conn1)"
   ]
  },
  {
   "cell_type": "code",
   "execution_count": 12,
   "metadata": {},
   "outputs": [],
   "source": [
    "daily_demand_df = pd.read_excel(r\"H:\\Downloads\\Sals Calcs\\AsUsedDailyDemand.xlsx\")"
   ]
  },
  {
   "cell_type": "code",
   "execution_count": 13,
   "metadata": {},
   "outputs": [
    {
     "name": "stdout",
     "output_type": "stream",
     "text": [
      "2/1/2024 12:00:00 AM | Revenue Decoupling Mechanism Adjustment | -0.0015000\n",
      "8/1/2024 12:00:00 AM | Revenue Decoupling Mechanism Adjustment | 0.0000300\n",
      "2/1/2025 12:00:00 AM | Revenue Decoupling Mechanism Adjustment | -0.0023100\n"
     ]
    }
   ],
   "source": [
    "monthly_adj_desc = \"Revenue Decoupling mechanism adjustment\"\n",
    "\n",
    "entries = [e for e in history.get(\"Energy_Table\", []) if monthly_adj_desc.lower() in e[\"Description\"].lower()]\n",
    "for e in entries:\n",
    "    print(f\"{e['EffectiveDate']} | {e['Description']} | {e.get('RatekWh', 'N/A')}\")\n"
   ]
  },
  {
   "cell_type": "code",
   "execution_count": 14,
   "metadata": {},
   "outputs": [
    {
     "data": {
      "text/plain": [
       "{'Ancillary Services Charges',\n",
       " 'Arrears Management Program Recovery Surcharge',\n",
       " 'As-used Daily Demand Delivery Charge',\n",
       " 'Billing and Payment Processing Charge, per bill',\n",
       " 'Capacity Component - Market Value',\n",
       " 'Capacity Component - Out of Market Value',\n",
       " 'Clean Energy Fund Surcharge',\n",
       " 'Clean Energy Standard Delivery Surcharge - Costs Associated with the NYSERDA Residential and Retail',\n",
       " 'Clean Energy Standard Delivery Surcharge - Costs associated with Backstop Charges',\n",
       " 'Clean Energy Standard Supply Charge - Renewable Energy and Alternative Compliance',\n",
       " 'Clean Energy Standard Supply Charge - Zero Emission',\n",
       " 'Clean Energy Supply Charge - Environmental Component',\n",
       " 'Community Credit',\n",
       " 'Contract Demand Delivery Charge',\n",
       " 'Costs Associated with the NYSERDA Integrated Energy Data Resource Phase 2 Program',\n",
       " 'Customer Charge',\n",
       " 'Delivery Revenue Surcharge',\n",
       " 'Demand Reduction Value (DRV)',\n",
       " 'Dynamic Load Surcharge',\n",
       " 'Electric Vehicle Make Ready Surcharge',\n",
       " 'Energy Efficiency Tracker',\n",
       " 'Factor of Adjustment for Losses',\n",
       " 'Integrated Energy Data Resource Surcharge',\n",
       " 'Locational System Relief Value (LSRV)',\n",
       " 'MAC Reconciliation',\n",
       " 'MAC Transition Adjustment',\n",
       " 'MAC Uncollectible-bill Expense',\n",
       " 'Market Supply Charge - Capacity',\n",
       " 'Merchant Function Charge - Transition Adjustment',\n",
       " 'Merchant Function Charge Credit and collection-related charge',\n",
       " 'Merchant Function Charge Supply-related charge',\n",
       " 'Merchant Function Charge Uncollectible-bill expense',\n",
       " 'Meter Data Service Provider Charge, per month',\n",
       " 'Meter Ownership Charge, per month',\n",
       " 'Meter Service Provider Charge, per month',\n",
       " 'Monthly Adjustment Clause',\n",
       " 'NYPA Transmission Adjustment Charge',\n",
       " 'New York City: Additional percentage increase to Delivery Rates and Charges',\n",
       " 'New York City: Delivery Rates and Charges',\n",
       " 'Revenue Decoupling Mechanism Adjustment',\n",
       " 'Surcharge to Collect PSL 18-a Assessments',\n",
       " 'Tax Sur-credit',\n",
       " 'Transco Facilities Charges',\n",
       " 'kVar at the time of the kW Maximum demand less one third of such kW Maximum demand.'}"
      ]
     },
     "execution_count": 14,
     "metadata": {},
     "output_type": "execute_result"
    }
   ],
   "source": [
    "set(charges['Description'].unique().tolist())"
   ]
  },
  {
   "cell_type": "code",
   "execution_count": 22,
   "metadata": {},
   "outputs": [
    {
     "data": {
      "text/plain": [
       "[{'Pending': '',\n",
       "  'ScheduleID': '21239',\n",
       "  'Description': 'Customer Charge',\n",
       "  'Rate': '66.00000',\n",
       "  'EffectiveDate': '1/1/2024 12:00:00 AM',\n",
       "  'ServiceCharge_PKID': '22151',\n",
       "  'ChargeUnit': 'per month'},\n",
       " {'Pending': '',\n",
       "  'ScheduleID': '21239',\n",
       "  'Description': 'Customer Charge',\n",
       "  'Rate': '71.00000',\n",
       "  'EffectiveDate': '1/1/2025 12:00:00 AM',\n",
       "  'ServiceCharge_PKID': '22151',\n",
       "  'ChargeUnit': 'per month'}]"
      ]
     },
     "execution_count": 22,
     "metadata": {},
     "output_type": "execute_result"
    }
   ],
   "source": [
    "history['ServiceCharge_Table']"
   ]
  },
  {
   "cell_type": "code",
   "execution_count": 20,
   "metadata": {},
   "outputs": [
    {
     "data": {
      "text/plain": [
       "Id                                                 5207\n",
       "RateAcuityRateId                                     22\n",
       "RateAcuityChargeId                                22151\n",
       "Description                             Customer Charge\n",
       "RateAcuityChargeSeason                                 \n",
       "RateAcuityChargeStartDate                              \n",
       "RateAcuityChargeEndDate                                \n",
       "RateAcuityChargeStartTime                              \n",
       "RateAcuityChargeEndTime                                \n",
       "RateAcuityChargeTimeOfDay                              \n",
       "Unit                                          per month\n",
       "ChargeTypeId                                          0\n",
       "ChargeParameterTypeId                                17\n",
       "UsageType                                              \n",
       "Weighted                                           True\n",
       "Prorated                                           True\n",
       "Block                                             False\n",
       "ServiceTypeId                                         2\n",
       "RatchetChargeDetailsId                                0\n",
       "Complete                                          False\n",
       "CreatedBy                                           448\n",
       "CreatedDate                  2025-04-16 11:19:31.603000\n",
       "ModifiedBy                                          448\n",
       "ModifiedDate                 2025-05-29 11:38:59.343000\n",
       "Name: 43, dtype: object"
      ]
     },
     "execution_count": 20,
     "metadata": {},
     "output_type": "execute_result"
    }
   ],
   "source": [
    "charges[charges['Description'] == 'Customer Charge'].iloc[0]"
   ]
  },
  {
   "cell_type": "code",
   "execution_count": 16,
   "metadata": {},
   "outputs": [
    {
     "name": "stdout",
     "output_type": "stream",
     "text": [
      "No charge found for As-used Daily Demand Delivery Charge\n",
      "No charge found for As-used Daily Demand Delivery Charge\n",
      "No charge found for As-used Daily Demand Delivery Charge\n",
      "Itemized Bill Summary:\n",
      "\n",
      "Customer Charge: $0.00\n",
      "    - Description: Fixed monthly customer service charge\n",
      "Processing Charge: $0.00\n",
      "    - Description: Billing & payment processing fee\n",
      "Energy Surcharge: $860.42\n",
      "    - Rate per kWh: 0.017377\n",
      "    - Usage: 49,515 kWh\n",
      "    - Breakdown:\n",
      "        • Mac Reconciliation: $283.82 @ 0.0057320000/kWh\n",
      "        • Mac Uncollectible-Bill Expense: $3.22 @ 0.0000650000/kWh\n",
      "        • Mac Transition Adjustment: $0.30 @ 0.0000060000/kWh\n",
      "        • Monthly Adjustment Clause: $230.28 @ 0.0046506452/kWh\n",
      "        • Revenue Decoupling Mechanism Adjustment: $1.49 @ 0.0000300000/kWh\n",
      "        • Clean Energy Fund Surcharge: $326.80 @ 0.0066000000/kWh\n",
      "        • Energy Efficiency Tracker: $0.00 @ 0.0000000000/kWh\n",
      "        • Ancillary Services Charges: $0.00 @ 0.0000000000/kWh\n",
      "        • Nypa Transmission Adjustment Charge: $0.00 @ 0.0000000000/kWh\n",
      "        • Transco Facilities Charges: $0.00 @ 0.0000000000/kWh\n",
      "        • Integrated Energy Data Resource Surcharge: $0.00 @ 0.0000000000/kWh\n",
      "        • Clean Energy Standard Delivery Surcharge - Costs Associated With Backstop Charges: $1.15 @ 0.0000232258/kWh\n",
      "        • Clean Energy Standard Delivery Surcharge - Costs Associated With The Nyserda Residential And Retail: $4.02 @ 0.0000811290/kWh\n",
      "        • Costs Associated With The Nyserda Integrated Energy Data Resource Phase 2 Program: $9.36 @ 0.0001890000/kWh\n",
      "Demand Charge Summer: $0.00\n",
      "    - Midpeak kwh sum: 0.0\n",
      "    - Midpeak rate: 0.6671\n",
      "    - Peak kwh sum: 0.0\n",
      "    - Peak rate: 2.2761\n",
      "    - Description: Sum of midpeak and peak weekday demand (Summer)\n",
      "Demand Charge Nonsummer: $5,207.76\n",
      "    - Sum daily max kw: 4434.4\n",
      "    - Rate: 1.1744\n",
      "    - Description: Sum of daily weekday max(kW) for Non-Summer\n",
      "Contract Demand Charge: $4,477.39\n",
      "    - Kw: 472\n",
      "    - Rate: 9.486\n",
      "    - Description: Fixed monthly rate based on contracted demand\n",
      "Total: $10,545.57\n"
     ]
    }
   ],
   "source": [
    "rates = extract_rate_data(history, charges, '12/31/2024', '1/31/2025', city=\"New York City\")\n",
    "\n",
    "bill = calculate_bill(\n",
    "    daily_demand_df,\n",
    "    49515,\n",
    "    '12/31/2024', '1/31/2025',\n",
    "    rates,\n",
    "    contract_demand_kW=472\n",
    ")\n",
    "def print_bill_summary(bill):\n",
    "    print(\"Itemized Bill Summary:\\n\")\n",
    "    \n",
    "    for key, details in bill.items():\n",
    "        if isinstance(details, dict):\n",
    "            print(f\"{key.replace('_', ' ').title()}: ${details.get('amount', 0):,.2f}\")\n",
    "            \n",
    "            # Special handling for energy surcharge breakdown\n",
    "            if key == \"energy_surcharge\" and 'breakdown' in details:\n",
    "                print(f\"    - Rate per kWh: {details.get('rate_per_kWh', 0):.6f}\")\n",
    "                print(f\"    - Usage: {details.get('usage_kWh', 0):,} kWh\")\n",
    "                print(f\"    - Breakdown:\")\n",
    "                for charge, info in details['breakdown'].items():\n",
    "                    charge_label = charge.replace('_', ' ').title()\n",
    "                    charge_amt = info.get('charge', 0.0)\n",
    "                    charge_rate = info.get('rate_per_kWh', 0.0)\n",
    "                    print(f\"        • {charge_label}: ${charge_amt:,.2f} @ {charge_rate:.10f}/kWh\")\n",
    "            else:\n",
    "                for k, v in details.items():\n",
    "                    if k != 'amount':\n",
    "                        print(f\"    - {k.replace('_', ' ').capitalize()}: {v}\")\n",
    "        else:\n",
    "            print(f\"{key.replace('_', ' ').title()}: ${details:,.2f}\")\n",
    "\n",
    "print_bill_summary(bill)\n"
   ]
  },
  {
   "cell_type": "code",
   "execution_count": 28,
   "metadata": {},
   "outputs": [
    {
     "data": {
      "text/plain": [
       "11039.808"
      ]
     },
     "execution_count": 28,
     "metadata": {},
     "output_type": "execute_result"
    }
   ],
   "source": [
    "10615.20 * 1.04"
   ]
  },
  {
   "cell_type": "code",
   "execution_count": 18,
   "metadata": {},
   "outputs": [
    {
     "name": "stdout",
     "output_type": "stream",
     "text": [
      "No charge found for As-used Daily Demand Delivery Charge\n",
      "No charge found for As-used Daily Demand Delivery Charge\n",
      "No charge found for As-used Daily Demand Delivery Charge\n",
      "Itemized Bill Summary:\n",
      "\n",
      "Customer Charge: $0.00\n",
      "    - Description: Fixed monthly customer service charge\n",
      "Processing Charge: $0.00\n",
      "    - Description: Billing & payment processing fee\n",
      "Energy Surcharge: $366.44\n",
      "    - Rate per kWh: 0.005680\n",
      "    - Usage: 64,509 kWh\n",
      "    - Breakdown:\n",
      "        • Mac Reconciliation: $184.37 @ 0.0028580000/kWh\n",
      "        • Mac Uncollectible-Bill Expense: $2.52 @ 0.0000390000/kWh\n",
      "        • Mac Transition Adjustment: $0.45 @ 0.0000070000/kWh\n",
      "        • Monthly Adjustment Clause: $258.32 @ 0.0040043750/kWh\n",
      "        • Revenue Decoupling Mechanism Adjustment: $-96.76 @ -0.0015000000/kWh\n",
      "        • Clean Energy Fund Surcharge: $0.00 @ 0.0000000000/kWh\n",
      "        • Energy Efficiency Tracker: $0.00 @ 0.0000000000/kWh\n",
      "        • Ancillary Services Charges: $0.00 @ 0.0000000000/kWh\n",
      "        • Nypa Transmission Adjustment Charge: $0.00 @ 0.0000000000/kWh\n",
      "        • Transco Facilities Charges: $0.00 @ 0.0000000000/kWh\n",
      "        • Integrated Energy Data Resource Surcharge: $0.00 @ 0.0000000000/kWh\n",
      "        • Clean Energy Standard Delivery Surcharge - Costs Associated With Backstop Charges: $17.55 @ 0.0002720000/kWh\n",
      "        • Clean Energy Standard Delivery Surcharge - Costs Associated With The Nyserda Residential And Retail: $0.00 @ 0.0000000000/kWh\n",
      "        • Costs Associated With The Nyserda Integrated Energy Data Resource Phase 2 Program: $0.00 @ 0.0000000000/kWh\n",
      "Demand Charge Summer: $10,962.52\n",
      "    - Midpeak kwh sum: 3956.16\n",
      "    - Midpeak rate: 0.6283\n",
      "    - Peak kwh sum: 3956.16\n",
      "    - Peak rate: 2.1427\n",
      "    - Description: Sum of midpeak and peak weekday demand (Summer)\n",
      "Demand Charge Nonsummer: $0.00\n",
      "    - Sum daily max kw: 0.0\n",
      "    - Rate: 1.1016\n",
      "    - Description: Sum of daily weekday max(kW) for Non-Summer\n",
      "Contract Demand Charge: $3,916.63\n",
      "    - Kw: 424\n",
      "    - Rate: 9.237333333333334\n",
      "    - Description: Fixed monthly rate based on contracted demand\n",
      "Total: $15,245.58\n"
     ]
    }
   ],
   "source": [
    "rates = extract_rate_data(history, charges, '6/28/2024', '7/30/2024', city=\"New York City\")\n",
    "\n",
    "bill = calculate_bill(\n",
    "    daily_demand_df,\n",
    "    64509,\n",
    "    '6/28/2024', '7/30/2024',\n",
    "    rates,\n",
    "    contract_demand_kW=424\n",
    ")\n",
    "\n",
    "print_bill_summary(bill)"
   ]
  },
  {
   "cell_type": "code",
   "execution_count": 19,
   "metadata": {},
   "outputs": [
    {
     "data": {
      "text/plain": [
       "17009.72879220224"
      ]
     },
     "execution_count": 19,
     "metadata": {},
     "output_type": "execute_result"
    }
   ],
   "source": [
    "15285.38 * 1.022099042 * 1.08875"
   ]
  },
  {
   "cell_type": "code",
   "execution_count": null,
   "metadata": {},
   "outputs": [],
   "source": []
  },
  {
   "cell_type": "code",
   "execution_count": null,
   "metadata": {},
   "outputs": [
    {
     "data": {
      "text/plain": [
       "9.526000000000002"
      ]
     },
     "execution_count": 308,
     "metadata": {},
     "output_type": "execute_result"
    }
   ],
   "source": [
    "8.66 * (33/30)"
   ]
  },
  {
   "cell_type": "code",
   "execution_count": null,
   "metadata": {},
   "outputs": [
    {
     "data": {
      "text/plain": [
       "17897.6890625"
      ]
     },
     "execution_count": 309,
     "metadata": {},
     "output_type": "execute_result"
    }
   ],
   "source": [
    "total = 16438.75\n",
    ".08875*total + total"
   ]
  },
  {
   "cell_type": "markdown",
   "metadata": {},
   "source": [
    "6/28/24- 7/30/24 – TOTAL delivery charges =  $  17,199.25 \n",
    "\n",
    "\n",
    "12/31/24 – 1/30/25 – TOTAL delivery charges =  $  11,014.49 \n"
   ]
  },
  {
   "cell_type": "code",
   "execution_count": null,
   "metadata": {},
   "outputs": [
    {
     "data": {
      "text/plain": [
       "4130.0"
      ]
     },
     "execution_count": 310,
     "metadata": {},
     "output_type": "execute_result"
    }
   ],
   "source": [
    "472 * 8.75"
   ]
  },
  {
   "cell_type": "code",
   "execution_count": null,
   "metadata": {},
   "outputs": [],
   "source": []
  }
 ],
 "metadata": {
  "kernelspec": {
   "display_name": "Python 3",
   "language": "python",
   "name": "python3"
  },
  "language_info": {
   "codemirror_mode": {
    "name": "ipython",
    "version": 3
   },
   "file_extension": ".py",
   "mimetype": "text/x-python",
   "name": "python",
   "nbconvert_exporter": "python",
   "pygments_lexer": "ipython3",
   "version": "3.11.3"
  },
  "orig_nbformat": 4
 },
 "nbformat": 4,
 "nbformat_minor": 2
}

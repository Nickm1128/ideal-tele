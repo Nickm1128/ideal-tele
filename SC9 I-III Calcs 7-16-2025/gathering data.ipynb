{
 "cells": [
  {
   "cell_type": "code",
   "execution_count": 3,
   "metadata": {},
   "outputs": [],
   "source": [
    "import pandas as pd \n",
    "import numpy as np \n",
    "import pyodbc\n",
    "import ast\n",
    "from datetime import datetime\n",
    "import json\n",
    "import re\n",
    "\n",
    "import sys\n",
    "import os"
   ]
  },
  {
   "cell_type": "code",
   "execution_count": 6,
   "metadata": {},
   "outputs": [],
   "source": [
    "conn1 = pyodbc.connect('Driver={SQL Server};'\n",
    "                              'Server=UTIL-PROD-DB;'\n",
    "                              'Database=NewClientInfo;')\n",
    "\n",
    "def string_to_list(s):\n",
    "    try:\n",
    "        result = ast.literal_eval(s)\n",
    "        if isinstance(result, list):\n",
    "            return result\n",
    "        else:\n",
    "            raise ValueError(\"The string does not represent a list.\")\n",
    "    except Exception as e:\n",
    "        print(f\"Error: {e}\")\n",
    "        return None\n",
    "    \n",
    "def GetChargeHistory(conn1):\n",
    "    sql1 = \"\"\"SELECT TOP (1000) [Id]\n",
    "        ,[RateAcuityRateId]\n",
    "        ,[EffectiveDate]\n",
    "        ,[RateHistory]\n",
    "        ,[CreatedBy]\n",
    "        ,[CreatedDate]\n",
    "        ,[ModifiedBy]\n",
    "        ,[ModifiedDate]\n",
    "    FROM [ExternalData].[dbo].[RateAcuityRateHistory]\n",
    "    WHERE RateAcuityRateId = 22\n",
    "    \"\"\"\n",
    "    return string_to_list(pd.read_sql(sql1,conn1)['RateHistory'][0])[0]\n",
    "\n",
    "def GetChargeConfig(conn1):\n",
    "    sql1 = \"\"\"\n",
    "    SELECT TOP (1000) [Id]\n",
    "        ,[RateAcuityRateId]\n",
    "        ,[RateAcuityChargeId]\n",
    "        ,[RateAcuityChargeDescription] AS 'Description'\n",
    "        ,[RateAcuityChargeSeason]\n",
    "        ,[RateAcuityChargeStartDate]\n",
    "        ,[RateAcuityChargeEndDate]\n",
    "        ,[RateAcuityChargeStartTime]\n",
    "        ,[RateAcuityChargeEndTime]\n",
    "        ,[RateAcuityChargeTimeOfDay]\n",
    "        ,[RateAcuityChargeDeterminant] AS 'Unit'\n",
    "        ,[ChargeTypeId]\n",
    "        ,[ChargeParameterTypeId]\n",
    "        ,[UsageType]\n",
    "        ,[WeightedAverage] AS 'Weighted'\n",
    "        ,[Prorated]\n",
    "        ,[Block]\n",
    "        ,[ServiceTypeId]\n",
    "        ,[RatchetChargeDetailsId]\n",
    "        ,[Complete]\n",
    "        ,[CreatedBy]\n",
    "        ,[CreatedDate]\n",
    "        ,[ModifiedBy]\n",
    "        ,[ModifiedDate]\n",
    "    FROM [ExternalData].[dbo].[ChargeConfiguration]\n",
    "    WHERE RateAcuityRateId = 1\n",
    "    AND RateAcuityChargeDescription NOT LIKE '%Average Supply Charge%'\n",
    "    AND [ChargeTypeId] IN (0, 2)\n",
    "\n",
    "    \"\"\"\n",
    "    return pd.read_sql(sql1,conn1)"
   ]
  },
  {
   "cell_type": "code",
   "execution_count": 8,
   "metadata": {},
   "outputs": [
    {
     "name": "stderr",
     "output_type": "stream",
     "text": [
      "C:\\Users\\local_nmilinkovich\\Temp\\ipykernel_33536\\3308119877.py:28: UserWarning: pandas only supports SQLAlchemy connectable (engine/connection) or database string URI or sqlite3 DBAPI2 connection. Other DBAPI2 objects are not tested. Please consider using SQLAlchemy.\n",
      "  return string_to_list(pd.read_sql(sql1,conn1)['RateHistory'][0])[0]\n",
      "C:\\Users\\local_nmilinkovich\\Temp\\ipykernel_33536\\3308119877.py:62: UserWarning: pandas only supports SQLAlchemy connectable (engine/connection) or database string URI or sqlite3 DBAPI2 connection. Other DBAPI2 objects are not tested. Please consider using SQLAlchemy.\n",
      "  return pd.read_sql(sql1,conn1)\n"
     ]
    }
   ],
   "source": [
    "charge_history = GetChargeHistory(conn1)\n",
    "charge_config = GetChargeConfig(conn1)"
   ]
  },
  {
   "cell_type": "code",
   "execution_count": 15,
   "metadata": {},
   "outputs": [],
   "source": [
    "charge_config.to_csv(r'C:\\Users\\nmilinkovich\\Documents\\ideal-tele\\charge_config.csv')\n",
    "with open(r'C:\\Users\\nmilinkovich\\Documents\\ideal-tele\\charge_history.json', 'w') as f:\n",
    "    json.dump(charge_history, f)"
   ]
  },
  {
   "cell_type": "code",
   "execution_count": null,
   "metadata": {},
   "outputs": [],
   "source": []
  }
 ],
 "metadata": {
  "kernelspec": {
   "display_name": "Python 3",
   "language": "python",
   "name": "python3"
  },
  "language_info": {
   "codemirror_mode": {
    "name": "ipython",
    "version": 3
   },
   "file_extension": ".py",
   "mimetype": "text/x-python",
   "name": "python",
   "nbconvert_exporter": "python",
   "pygments_lexer": "ipython3",
   "version": "3.11.3"
  },
  "orig_nbformat": 4
 },
 "nbformat": 4,
 "nbformat_minor": 2
}
